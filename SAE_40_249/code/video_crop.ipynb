{
 "cells": [
  {
   "cell_type": "code",
   "execution_count": 1,
   "metadata": {},
   "outputs": [],
   "source": [
    "import cv2\n",
    "import os"
   ]
  },
  {
   "cell_type": "markdown",
   "metadata": {},
   "source": [
    "## Crop the video from main footage"
   ]
  },
  {
   "cell_type": "code",
   "execution_count": 2,
   "metadata": {},
   "outputs": [],
   "source": [
    "import subprocess\n",
    "\n",
    "def extract_video_segment(input_path, output_path, start_time, end_time):\n",
    "    # Command to extract the segment without re-encoding\n",
    "    command = [\n",
    "        \"ffmpeg\",\n",
    "        \"-i\", input_path,\n",
    "        \"-ss\", str(start_time),\n",
    "        \"-to\", str(end_time),\n",
    "        \"-c\", \"copy\",\n",
    "        \"-avoid_negative_ts\", \"make_zero\",\n",
    "        output_path\n",
    "    ]\n",
    "\n",
    "    # Execute the command\n",
    "    subprocess.run(command, stdout=subprocess.PIPE, stderr=subprocess.PIPE)\n"
   ]
  },
  {
   "cell_type": "markdown",
   "metadata": {},
   "source": [
    "## Video 1"
   ]
  },
  {
   "cell_type": "code",
   "execution_count": 6,
   "metadata": {},
   "outputs": [],
   "source": [
    "# Define input and output paths\n",
    "input_video_path = \"/home/cvig13/Viscosity_2/SAE_40_249/data/MVI_7007_Main.MP4\"  # Replace with your input video path\n",
    "output_video_path = \"/home/cvig13/Viscosity_2/SAE_40_249/data/first_SAE_40.mp4\"  # Replace with your desired output video path\n",
    "\n",
    "# Define the range of the new video (10 to 13 seconds)\n",
    "start_time = 80.1  # Start time in seconds\n",
    "end_time = 83.5  # End time in seconds\n",
    "\n",
    "# Extract the video segment without re-encoding\n",
    "extract_video_segment(input_video_path, output_video_path, start_time, end_time)"
   ]
  },
  {
   "cell_type": "markdown",
   "metadata": {},
   "source": [
    "## Video 2"
   ]
  },
  {
   "cell_type": "code",
   "execution_count": 14,
   "metadata": {},
   "outputs": [],
   "source": [
    "# Define input and output paths\n",
    "input_video_path = \"/home/cvig13/Viscosity_2/SAE_40_249/data/MVI_7007_Main.MP4\"  # Replace with your input video path\n",
    "output_video_path = \"/home/cvig13/Viscosity_2/SAE_40_249/data/second_SAE_40.mp4\"  # Replace with your desired output video path\n",
    "\n",
    "# Define the range of the new video (27 to 30 seconds)\n",
    "start_time = 137.4 # Start time in seconds 2.17\n",
    "end_time = 141.1  # End time in seconds  2.21\n",
    "\n",
    "# Extract the video segment without re-encoding\n",
    "extract_video_segment(input_video_path, output_video_path, start_time, end_time)"
   ]
  },
  {
   "cell_type": "markdown",
   "metadata": {},
   "source": [
    "## Video 3"
   ]
  },
  {
   "cell_type": "code",
   "execution_count": 12,
   "metadata": {},
   "outputs": [],
   "source": [
    "# Define input and output paths\n",
    "input_video_path = \"/home/cvig13/Viscosity_2/SAE_40_249/data/MVI_7007_Main.MP4\"  # Replace with your input video path\n",
    "output_video_path = \"/home/cvig13/Viscosity_2/SAE_40_249/data/third_SAE_40.mp4\"  # Replace with your desired output video path\n",
    "\n",
    "# Define the range of the new video (27 to 30 seconds)\n",
    "start_time = 167.2 # Start time in seconds 2.47.5\n",
    "end_time = 170.8  # End time in seconds  2.50\n",
    "\n",
    "# Extract the video segment without re-encoding\n",
    "extract_video_segment(input_video_path, output_video_path, start_time, end_time)"
   ]
  },
  {
   "cell_type": "markdown",
   "metadata": {},
   "source": [
    "## masked videos into frames"
   ]
  },
  {
   "cell_type": "code",
   "execution_count": 18,
   "metadata": {},
   "outputs": [],
   "source": [
    "# frames for masked video first\n",
    "try:\n",
    "    if not os.path.exists('/home/cvig13/Viscosity_2/SAE_40_249/data/video_with_bgremoved/maskedframes_first'):\n",
    "        os.makedirs('/home/cvig13/Viscosity_2/SAE_40_249/data/video_with_bgremoved/maskedframes_first')\n",
    "except OSError:\n",
    "    print ('Error: Creating directory of data_first')\n",
    "\n",
    "currentFrame = 0\n",
    "\n",
    "\n",
    "cap = cv2.VideoCapture('/home/cvig13/Viscosity_2/SAE_40_249/data/video_with_bgremoved/Background_Removed_first.mp4')\n",
    "\n",
    "while(cap.isOpened()):\n",
    "    ret, frame = cap.read()\n",
    "    if ret == False:\n",
    "        break\n",
    "    name = '/home/cvig13/Viscosity_2/SAE_40_249/data/video_with_bgremoved/maskedframes_first/frame' + str(currentFrame) + '.jpg'\n",
    "    cv2.imwrite(name, frame)\n",
    "    currentFrame += 1\n",
    "\n",
    "cap.release()\n",
    "cv2.destroyAllWindows()"
   ]
  },
  {
   "cell_type": "code",
   "execution_count": 19,
   "metadata": {},
   "outputs": [],
   "source": [
    "# frames for masked video first\n",
    "try:\n",
    "    if not os.path.exists('/home/cvig13/Viscosity_2/SAE_40_249/data/video_with_bgremoved/maskedframes_second'):\n",
    "        os.makedirs('/home/cvig13/Viscosity_2/SAE_40_249/data/video_with_bgremoved/maskedframes_second')\n",
    "except OSError:\n",
    "    print ('Error: Creating directory of data_first')\n",
    "\n",
    "currentFrame = 0\n",
    "\n",
    "\n",
    "cap = cv2.VideoCapture('/home/cvig13/Viscosity_2/SAE_40_249/data/video_with_bgremoved/Background_Removed_second.mp4')\n",
    "\n",
    "while(cap.isOpened()):\n",
    "    ret, frame = cap.read()\n",
    "    if ret == False:\n",
    "        break\n",
    "    name = '/home/cvig13/Viscosity_2/SAE_40_249/data/video_with_bgremoved/maskedframes_second/frame' + str(currentFrame) + '.jpg'\n",
    "    cv2.imwrite(name, frame)\n",
    "    currentFrame += 1\n",
    "\n",
    "cap.release()\n",
    "cv2.destroyAllWindows()"
   ]
  },
  {
   "cell_type": "code",
   "execution_count": 20,
   "metadata": {},
   "outputs": [],
   "source": [
    "# frames for masked video first\n",
    "try:\n",
    "    if not os.path.exists('/home/cvig13/Viscosity_2/SAE_40_249/data/video_with_bgremoved/maskedframes_third'):\n",
    "        os.makedirs('/home/cvig13/Viscosity_2/SAE_40_249/data/video_with_bgremoved/maskedframes_third')\n",
    "except OSError:\n",
    "    print ('Error: Creating directory of data_first')\n",
    "\n",
    "currentFrame = 0\n",
    "\n",
    "\n",
    "cap = cv2.VideoCapture('/home/cvig13/Viscosity_2/SAE_40_249/data/video_with_bgremoved/Background_Removed_third.mp4')\n",
    "\n",
    "while(cap.isOpened()):\n",
    "    ret, frame = cap.read()\n",
    "    if ret == False:\n",
    "        break\n",
    "    name = '/home/cvig13/Viscosity_2/SAE_40_249/data/video_with_bgremoved/maskedframes_third/frame' + str(currentFrame) + '.jpg'\n",
    "    cv2.imwrite(name, frame)\n",
    "    currentFrame += 1\n",
    "\n",
    "cap.release()\n",
    "cv2.destroyAllWindows()\n",
    "\n"
   ]
  }
 ],
 "metadata": {
  "kernelspec": {
   "display_name": "py311",
   "language": "python",
   "name": "python3"
  },
  "language_info": {
   "codemirror_mode": {
    "name": "ipython",
    "version": 3
   },
   "file_extension": ".py",
   "mimetype": "text/x-python",
   "name": "python",
   "nbconvert_exporter": "python",
   "pygments_lexer": "ipython3",
   "version": "3.11.7"
  }
 },
 "nbformat": 4,
 "nbformat_minor": 2
}
