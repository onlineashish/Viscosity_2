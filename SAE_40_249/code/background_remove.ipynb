{
 "cells": [
  {
   "cell_type": "code",
   "execution_count": 1,
   "metadata": {},
   "outputs": [],
   "source": [
    "import cv2"
   ]
  },
  {
   "cell_type": "code",
   "execution_count": 2,
   "metadata": {},
   "outputs": [],
   "source": [
    "import os\n",
    "\n",
    "try:\n",
    "    if not os.path.exists('/home/cvig13/Viscosity_2/SAE_40_249/data/video_with_bgremoved'):\n",
    "        os.makedirs('/home/cvig13/Viscosity_2/SAE_40_249/data/video_with_bgremoved')\n",
    "except OSError:\n",
    "    print ('Error: Creating directory of data_first')"
   ]
  },
  {
   "cell_type": "markdown",
   "metadata": {},
   "source": [
    "## Creating masked videos"
   ]
  },
  {
   "cell_type": "code",
   "execution_count": 3,
   "metadata": {},
   "outputs": [],
   "source": [
    "cap = cv2.VideoCapture('/home/cvig13/Viscosity_2/SAE_40_249/data/first_SAE_40.mp4')\n",
    "\n",
    "# Object Detection from Stable Camera\n",
    "object_detector = cv2.createBackgroundSubtractorMOG2(history=50, varThreshold=100)\n",
    "\n",
    "# Create a VideoWriter object to save the output video\n",
    "fourcc = cv2.VideoWriter_fourcc(*'mp4v') #  (*'mp4v') (*'XVID') coded of your choice\n",
    "out = cv2.VideoWriter('/home/cvig13/Viscosity_2/SAE_40_249/data/video_with_bgremoved/Background_Removed_first.mp4', fourcc, cap.get(cv2.CAP_PROP_FPS), (int(cap.get(cv2.CAP_PROP_FRAME_WIDTH)), int(cap.get(cv2.CAP_PROP_FRAME_HEIGHT))), isColor=False)\n",
    "\n",
    "# Read until the end frame\n",
    "while(1):\n",
    "    ret, frame = cap.read()\n",
    "    if ret:\n",
    "        # applying on each frame \n",
    "        fgmask = object_detector.apply(frame)   \n",
    "        \n",
    "        out.write(fgmask)\n",
    "    else:\n",
    "        break\n",
    "\n",
    "# Release the VideoCapture and VideoWriter objects\n",
    "cap.release()\n",
    "out.release()\n",
    "cv2.destroyAllWindows()"
   ]
  },
  {
   "cell_type": "markdown",
   "metadata": {},
   "source": [
    "## Video 2"
   ]
  },
  {
   "cell_type": "code",
   "execution_count": 4,
   "metadata": {},
   "outputs": [],
   "source": [
    "cap = cv2.VideoCapture('/home/cvig13/Viscosity_2/SAE_40_249/data/second_SAE_40.mp4')\n",
    "\n",
    "# Object Detection from Stable Camera\n",
    "object_detector = cv2.createBackgroundSubtractorMOG2(history=50, varThreshold=100)\n",
    "\n",
    "# Create a VideoWriter object to save the output video\n",
    "fourcc = cv2.VideoWriter_fourcc(*'mp4v') #  (*'mp4v') (*'XVID') coded of your choice\n",
    "out = cv2.VideoWriter('/home/cvig13/Viscosity_2/SAE_40_249/data/video_with_bgremoved/Background_Removed_second.mp4', fourcc, cap.get(cv2.CAP_PROP_FPS), (int(cap.get(cv2.CAP_PROP_FRAME_WIDTH)), int(cap.get(cv2.CAP_PROP_FRAME_HEIGHT))), isColor=False)\n",
    "\n",
    "# Read until the end frame\n",
    "while(1):\n",
    "    ret, frame = cap.read()\n",
    "    if ret:\n",
    "        # applying on each frame \n",
    "        fgmask = object_detector.apply(frame)   \n",
    "        \n",
    "        out.write(fgmask)\n",
    "    else:\n",
    "        break\n",
    "\n",
    "# Release the VideoCapture and VideoWriter objects\n",
    "cap.release()\n",
    "out.release()\n",
    "cv2.destroyAllWindows()"
   ]
  },
  {
   "cell_type": "markdown",
   "metadata": {},
   "source": [
    "## Video 3"
   ]
  },
  {
   "cell_type": "code",
   "execution_count": 5,
   "metadata": {},
   "outputs": [],
   "source": [
    "cap = cv2.VideoCapture('/home/cvig13/Viscosity_2/SAE_40_249/data/third_SAE_40.mp4')\n",
    "\n",
    "# Object Detection from Stable Camera\n",
    "object_detector = cv2.createBackgroundSubtractorMOG2(history=50, varThreshold=100)\n",
    "\n",
    "# Create a VideoWriter object to save the output video\n",
    "fourcc = cv2.VideoWriter_fourcc(*'mp4v') #  (*'mp4v') (*'XVID') coded of your choice\n",
    "out = cv2.VideoWriter('/home/cvig13/Viscosity_2/SAE_40_249/data/video_with_bgremoved/Background_Removed_third.mp4', fourcc, cap.get(cv2.CAP_PROP_FPS), (int(cap.get(cv2.CAP_PROP_FRAME_WIDTH)), int(cap.get(cv2.CAP_PROP_FRAME_HEIGHT))), isColor=False)\n",
    "\n",
    "# Read until the end frame\n",
    "while(1):\n",
    "    ret, frame = cap.read()\n",
    "    if ret:\n",
    "        # applying on each frame \n",
    "        fgmask = object_detector.apply(frame)   \n",
    "        \n",
    "        out.write(fgmask)\n",
    "    else:\n",
    "        break\n",
    "\n",
    "# Release the VideoCapture and VideoWriter objects\n",
    "cap.release()\n",
    "out.release()\n",
    "cv2.destroyAllWindows()"
   ]
  }
 ],
 "metadata": {
  "kernelspec": {
   "display_name": "py311",
   "language": "python",
   "name": "python3"
  },
  "language_info": {
   "codemirror_mode": {
    "name": "ipython",
    "version": 3
   },
   "file_extension": ".py",
   "mimetype": "text/x-python",
   "name": "python",
   "nbconvert_exporter": "python",
   "pygments_lexer": "ipython3",
   "version": "3.11.7"
  }
 },
 "nbformat": 4,
 "nbformat_minor": 2
}
