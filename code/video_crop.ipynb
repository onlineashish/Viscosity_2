{
 "cells": [
  {
   "cell_type": "code",
   "execution_count": 44,
   "metadata": {},
   "outputs": [],
   "source": [
    "import cv2"
   ]
  },
  {
   "cell_type": "code",
   "execution_count": 45,
   "metadata": {},
   "outputs": [],
   "source": [
    "import subprocess\n",
    "\n",
    "def extract_video_segment(input_path, output_path, start_time, end_time):\n",
    "    # Command to extract the segment without re-encoding\n",
    "    command = [\n",
    "        \"ffmpeg\",\n",
    "        \"-i\", input_path,\n",
    "        \"-ss\", str(start_time),\n",
    "        \"-to\", str(end_time),\n",
    "        \"-c\", \"copy\",\n",
    "        \"-avoid_negative_ts\", \"make_zero\",\n",
    "        output_path\n",
    "    ]\n",
    "\n",
    "    # Execute the command\n",
    "    subprocess.run(command, stdout=subprocess.PIPE, stderr=subprocess.PIPE)\n"
   ]
  },
  {
   "cell_type": "code",
   "execution_count": 46,
   "metadata": {},
   "outputs": [],
   "source": [
    "# Define input and output paths\n",
    "input_video_path = \"/home/cvig13/Viscosity_2/data/SAE_40_with_3mm_main.MP4\"  # Replace with your input video path\n",
    "output_video_path = \"/home/cvig13/Viscosity_2/data/first_SAE_40.mp4\"  # Replace with your desired output video path\n",
    "\n",
    "# Define the range of the new video (10 to 13 seconds)\n",
    "start_time = 10.1  # Start time in seconds\n",
    "end_time = 12.7  # End time in seconds\n",
    "\n",
    "# Extract the video segment without re-encoding\n",
    "extract_video_segment(input_video_path, output_video_path, start_time, end_time)"
   ]
  },
  {
   "cell_type": "code",
   "execution_count": 47,
   "metadata": {},
   "outputs": [],
   "source": [
    "# Define input and output paths\n",
    "input_video_path = \"/home/cvig13/Viscosity_2/data/SAE_40_with_3mm_main.MP4\"  # Replace with your input video path\n",
    "output_video_path = \"/home/cvig13/Viscosity_2/data/second_SAE_40.mp4\"  # Replace with your desired output video path\n",
    "\n",
    "# Define the range of the new video (27 to 30 seconds)\n",
    "start_time = 27.33 # Start time in seconds\n",
    "end_time = 29.7  # End time in seconds\n",
    "\n",
    "# Extract the video segment without re-encoding\n",
    "extract_video_segment(input_video_path, output_video_path, start_time, end_time)"
   ]
  },
  {
   "cell_type": "code",
   "execution_count": 49,
   "metadata": {},
   "outputs": [],
   "source": [
    "import os\n",
    "\n",
    "try:\n",
    "    if not os.path.exists('/home/cvig13/Viscosity_2/data/frames_first'):\n",
    "        os.makedirs('/home/cvig13/Viscosity_2/data/frames_first')\n",
    "except OSError:\n",
    "    print ('Error: Creating directory of data_first')\n",
    "\n",
    "currentFrame = 0\n",
    "\n",
    "\n",
    "cap = cv2.VideoCapture('/home/cvig13/Viscosity_2/data/first_SAE_40.mp4')\n",
    "\n",
    "while(cap.isOpened()):\n",
    "    ret, frame = cap.read()\n",
    "    if ret == False:\n",
    "        break\n",
    "    name = '/home/cvig13/Viscosity_2/data//frames_first/frame' + str(currentFrame) + '.jpg'\n",
    "    cv2.imwrite(name, frame)\n",
    "    currentFrame += 1\n",
    "\n",
    "cap.release()\n",
    "cv2.destroyAllWindows()"
   ]
  },
  {
   "cell_type": "code",
   "execution_count": 50,
   "metadata": {},
   "outputs": [],
   "source": [
    "try:\n",
    "    if not os.path.exists('/home/cvig13/Viscosity_2/data/frames_second'):\n",
    "        os.makedirs('/home/cvig13/Viscosity_2/data/frames_second')\n",
    "except OSError:\n",
    "    print ('Error: Creating directory of data_first')\n",
    "\n",
    "currentFrame = 0\n",
    "\n",
    "\n",
    "cap = cv2.VideoCapture('/home/cvig13/Viscosity_2/data/second_SAE_40.mp4')\n",
    "\n",
    "while(cap.isOpened()):\n",
    "    ret, frame = cap.read()\n",
    "    if ret == False:\n",
    "        break\n",
    "    name = '/home/cvig13/Viscosity_2/data//frames_second/frame' + str(currentFrame) + '.jpg'\n",
    "    cv2.imwrite(name, frame)\n",
    "    currentFrame += 1\n",
    "\n",
    "cap.release()\n",
    "cv2.destroyAllWindows()"
   ]
  }
 ],
 "metadata": {
  "kernelspec": {
   "display_name": "py311",
   "language": "python",
   "name": "python3"
  },
  "language_info": {
   "codemirror_mode": {
    "name": "ipython",
    "version": 3
   },
   "file_extension": ".py",
   "mimetype": "text/x-python",
   "name": "python",
   "nbconvert_exporter": "python",
   "pygments_lexer": "ipython3",
   "version": "3.11.7"
  }
 },
 "nbformat": 4,
 "nbformat_minor": 2
}
