{
 "cells": [
  {
   "cell_type": "code",
   "execution_count": 1,
   "metadata": {},
   "outputs": [],
   "source": [
    "import cv2"
   ]
  },
  {
   "cell_type": "code",
   "execution_count": 16,
   "metadata": {},
   "outputs": [
    {
     "name": "stdout",
     "output_type": "stream",
     "text": [
      "frame30-5 distance: 411.0194642592976 pixels\n",
      "frame31-6 distance: 408.0110292626904 pixels\n",
      "frame32-7 distance: 408.0110292626904 pixels\n",
      "frame33-8 distance: 407.0110563608807 pixels\n",
      "frame34-9 distance: 408.01960737199875 pixels\n",
      "frame35-10 distance: 407.0196555450363 pixels\n",
      "frame36-11 distance: 406.0197039553622 pixels\n",
      "frame37-12 distance: 403.00496274859944 pixels\n",
      "frame38-13 distance: 405.0049382414985 pixels\n",
      "frame39-14 distance: 404.01113846031524 pixels\n",
      "frame40-15 distance: 403.0111660984097 pixels\n",
      "frame41-16 distance: 403.0111660984097 pixels\n",
      "frame42-17 distance: 402.0049750935926 pixels\n",
      "frame43-18 distance: 399.02004962156974 pixels\n",
      "frame44-19 distance: 398.02009999496255 pixels\n",
      "frame45-20 distance: 398.0113063720678 pixels\n"
     ]
    }
   ],
   "source": [
    "for i in range(30,46):\n",
    "    img_last =  f'/home/cvig13/Viscosity_2/data/vidoe_with_bgremoved/maskedframes_second/frame{i}.jpg'\n",
    "    img_first = f'/home/cvig13/Viscosity_2/data/vidoe_with_bgremoved/maskedframes_second/frame{i-25}.jpg'\n",
    "    img_last = cv2.imread(img_last)\n",
    "    img_first = cv2.imread(img_first)\n",
    "\n",
    "    # Convert the frame to grayscale\n",
    "    gray_last = cv2.cvtColor(img_last, cv2.COLOR_BGR2GRAY)\n",
    "    gray_first = cv2.cvtColor(img_first, cv2.COLOR_BGR2GRAY)\n",
    "\n",
    "     # Threshold the frame to create a binary image\n",
    "    _, binary_frame_last = cv2.threshold(gray_last, 200, 255, cv2.THRESH_BINARY)\n",
    "    _, binary_frame_first = cv2.threshold(gray_first, 200, 255, cv2.THRESH_BINARY)\n",
    "\n",
    "    # Find contours in the binary image\n",
    "    contours_last, _ = cv2.findContours(binary_frame_last, cv2.RETR_EXTERNAL, cv2.CHAIN_APPROX_SIMPLE)\n",
    "    contours_first, _ = cv2.findContours(binary_frame_first, cv2.RETR_EXTERNAL, cv2.CHAIN_APPROX_SIMPLE)\n",
    "\n",
    "    # Iterate over the contours and find the centroid of the white dot\n",
    "    \n",
    "    for c in contours_last:\n",
    "        M = cv2.moments(c)\n",
    "        if M[\"m00\"] != 0:\n",
    "            cX_last = int(M[\"m10\"] / M[\"m00\"])\n",
    "            cY_last = int(M[\"m01\"] / M[\"m00\"])\n",
    "            break\n",
    "        \n",
    "    for c in contours_first:\n",
    "        M = cv2.moments(c)\n",
    "        if M[\"m00\"] != 0:\n",
    "            cX_first = int(M[\"m10\"] / M[\"m00\"])\n",
    "            cY_first = int(M[\"m01\"] / M[\"m00\"])\n",
    "            break\n",
    "\n",
    "    distance = ((cX_last - cX_first)**2 + (cY_last - cY_first)**2)**0.5\n",
    "\n",
    "    print(f'frame{i}-{i-25} distance: {distance} pixels')\n",
    "\n",
    "\n",
    "\n"
   ]
  },
  {
   "cell_type": "code",
   "execution_count": 18,
   "metadata": {},
   "outputs": [
    {
     "name": "stdout",
     "output_type": "stream",
     "text": [
      "frame30-5 distance: 411.0109487592758 pixels\n",
      "frame31-6 distance: 411.0194642592976 pixels\n",
      "frame32-7 distance: 411.0109487592758 pixels\n",
      "frame33-8 distance: 409.0195594345092 pixels\n",
      "frame34-9 distance: 410.01951173084433 pixels\n",
      "frame35-10 distance: 411.0109487592758 pixels\n",
      "frame36-11 distance: 411.0109487592758 pixels\n",
      "frame37-12 distance: 410.0109754628527 pixels\n",
      "frame38-13 distance: 408.0110292626904 pixels\n",
      "frame39-14 distance: 962.412073905975 pixels\n",
      "frame40-15 distance: 963.4116461824613 pixels\n",
      "frame41-16 distance: 950.8107067129608 pixels\n",
      "frame42-17 distance: 878.5180703889932 pixels\n",
      "frame43-18 distance: 866.8431230620682 pixels\n",
      "frame44-19 distance: 854.7145722403474 pixels\n",
      "frame45-20 distance: 762.5968790914371 pixels\n",
      "frame46-21 distance: 745.3120151990038 pixels\n",
      "frame47-22 distance: 401.01122178811903 pixels\n",
      "frame48-23 distance: 400.0049999687504 pixels\n",
      "frame49-24 distance: 398.0050250939051 pixels\n",
      "frame50-25 distance: 398.0050250939051 pixels\n",
      "frame51-26 distance: 397.0050377514119 pixels\n"
     ]
    }
   ],
   "source": [
    "for i in range(30,52):\n",
    "    img_last =  f'/home/cvig13/Viscosity_2/data/vidoe_with_bgremoved/maskedframes_first/frame{i}.jpg'\n",
    "    img_first = f'/home/cvig13/Viscosity_2/data/vidoe_with_bgremoved/maskedframes_first/frame{i-25}.jpg'\n",
    "    img_last = cv2.imread(img_last)\n",
    "    img_first = cv2.imread(img_first)\n",
    "\n",
    "    # Convert the frame to grayscale\n",
    "    gray_last = cv2.cvtColor(img_last, cv2.COLOR_BGR2GRAY)\n",
    "    gray_first = cv2.cvtColor(img_first, cv2.COLOR_BGR2GRAY)\n",
    "\n",
    "     # Threshold the frame to create a binary image\n",
    "    _, binary_frame_last = cv2.threshold(gray_last, 200, 255, cv2.THRESH_BINARY)\n",
    "    _, binary_frame_first = cv2.threshold(gray_first, 200, 255, cv2.THRESH_BINARY)\n",
    "\n",
    "    # Find contours in the binary image\n",
    "    contours_last, _ = cv2.findContours(binary_frame_last, cv2.RETR_EXTERNAL, cv2.CHAIN_APPROX_SIMPLE)\n",
    "    contours_first, _ = cv2.findContours(binary_frame_first, cv2.RETR_EXTERNAL, cv2.CHAIN_APPROX_SIMPLE)\n",
    "\n",
    "    # Iterate over the contours and find the centroid of the white dot\n",
    "    \n",
    "    for c in contours_last:\n",
    "        M = cv2.moments(c)\n",
    "        if M[\"m00\"] != 0:\n",
    "            cX_last = int(M[\"m10\"] / M[\"m00\"])\n",
    "            cY_last = int(M[\"m01\"] / M[\"m00\"])\n",
    "            break\n",
    "        \n",
    "    for c in contours_first:\n",
    "        M = cv2.moments(c)\n",
    "        if M[\"m00\"] != 0:\n",
    "            cX_first = int(M[\"m10\"] / M[\"m00\"])\n",
    "            cY_first = int(M[\"m01\"] / M[\"m00\"])\n",
    "            break\n",
    "\n",
    "    distance = ((cX_last - cX_first)**2 + (cY_last - cY_first)**2)**0.5\n",
    "\n",
    "    print(f'frame{i}-{i-25} distance: {distance} pixels')"
   ]
  },
  {
   "cell_type": "markdown",
   "metadata": {},
   "source": []
  },
  {
   "cell_type": "code",
   "execution_count": 21,
   "metadata": {},
   "outputs": [
    {
     "name": "stdout",
     "output_type": "stream",
     "text": [
      "mu_f = 0.304 Pa.s\n"
     ]
    }
   ],
   "source": [
    "#manual external diameter of SAE-40 tube : 58.50 mm\n",
    "#corrosponding diameter in pixels : 212 pixels\n",
    "# 212 pixels = 58.50 mm => 1 pixel = 0.275 mm\n",
    "#  405 pixels = 111.75 mm => 0.11175 m\n",
    "velocity = 0.11175 #m/s\n",
    "g = 9.8\n",
    "D_p = 3/1000# particle diameter in m\n",
    "rho_p = 7800 # particle density in kg/m^3\n",
    "rho_f = 860 # fluid density in kg/m^3\n",
    "mu_f = g * (rho_p - rho_f) * D_p**2 / 18 / velocity # fluid viscosity in Pa.s\n",
    "print(f\"mu_f = {mu_f:.3f} Pa.s\")"
   ]
  }
 ],
 "metadata": {
  "kernelspec": {
   "display_name": "py311",
   "language": "python",
   "name": "python3"
  },
  "language_info": {
   "codemirror_mode": {
    "name": "ipython",
    "version": 3
   },
   "file_extension": ".py",
   "mimetype": "text/x-python",
   "name": "python",
   "nbconvert_exporter": "python",
   "pygments_lexer": "ipython3",
   "version": "3.11.7"
  }
 },
 "nbformat": 4,
 "nbformat_minor": 2
}
